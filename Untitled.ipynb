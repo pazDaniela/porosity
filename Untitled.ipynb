{
 "cells": [
  {
   "cell_type": "code",
   "execution_count": 1,
   "metadata": {},
   "outputs": [],
   "source": [
    "x<-c(225,171,198,189,135,162,117)\n",
    "#mlecauchy(x,0.0001)"
   ]
  },
  {
   "cell_type": "code",
   "execution_count": 2,
   "metadata": {},
   "outputs": [
    {
     "data": {
      "text/html": [
       "<dl>\n",
       "\t<dt>$minimum</dt>\n",
       "\t\t<dd>99.9999346821187</dd>\n",
       "\t<dt>$objective</dt>\n",
       "\t\t<dd>65.378737934981</dd>\n",
       "</dl>\n"
      ],
      "text/latex": [
       "\\begin{description}\n",
       "\\item[\\$minimum] 99.9999346821187\n",
       "\\item[\\$objective] 65.378737934981\n",
       "\\end{description}\n"
      ],
      "text/markdown": [
       "$minimum\n",
       ":   99.9999346821187\n",
       "$objective\n",
       ":   65.378737934981\n",
       "\n",
       "\n"
      ],
      "text/plain": [
       "$minimum\n",
       "[1] 99.99993\n",
       "\n",
       "$objective\n",
       "[1] 65.37874\n"
      ]
     },
     "metadata": {},
     "output_type": "display_data"
    }
   ],
   "source": [
    "optimize(function(theta) -sum(dcauchy(x, location=theta, log=TRUE)),  c(-100,100)) "
   ]
  },
  {
   "cell_type": "code",
   "execution_count": 6,
   "metadata": {},
   "outputs": [],
   "source": [
    "mlecauchy=function(x,toler=.001){      #x is a vector here\n",
    "startvalue= 99\n",
    "n=length(x);\n",
    "thetahatcurr=startvalue;\n",
    "# Compute first deriviative of log likelihood\n",
    "firstderivll=2*sum((x-thetahatcurr)/(1+(x-thetahatcurr)^2))\n",
    "# Continue Newton’s method until the first derivative\n",
    "# of the likelihood is within toler of 0.001\n",
    "while(abs(firstderivll)>toler){\n",
    "# Compute second derivative of log likelihood\n",
    " secondderivll=2*sum(((x-thetahatcurr)^2-1)/(1+(x-thetahatcurr)^2)^2);\n",
    "# Newton’s method update of estimate of theta\n",
    "thetahatnew=thetahatcurr-firstderivll/secondderivll;\n",
    "thetahatcurr=thetahatnew;\n",
    "# Compute first derivative of log likelihood\n",
    "firstderivll=2*sum((x-thetahatcurr)/(1+(x-thetahatcurr)^2))\n",
    "}\n",
    "list(thetahat=thetahatcurr);\n",
    "}"
   ]
  },
  {
   "cell_type": "code",
   "execution_count": 5,
   "metadata": {},
   "outputs": [
    {
     "data": {
      "text/html": [
       "<strong>$thetahat</strong> = -174965.275765743"
      ],
      "text/latex": [
       "\\textbf{\\$thetahat} = -174965.275765743"
      ],
      "text/markdown": [
       "**$thetahat** = -174965.275765743"
      ],
      "text/plain": [
       "$thetahat\n",
       "[1] -174965.3\n"
      ]
     },
     "metadata": {},
     "output_type": "display_data"
    }
   ],
   "source": [
    "mlecauchy(x,0.0001)"
   ]
  }
 ],
 "metadata": {
  "kernelspec": {
   "display_name": "R",
   "language": "R",
   "name": "ir"
  },
  "language_info": {
   "codemirror_mode": "r",
   "file_extension": ".r",
   "mimetype": "text/x-r-source",
   "name": "R",
   "pygments_lexer": "r",
   "version": "3.6.3"
  }
 },
 "nbformat": 4,
 "nbformat_minor": 4
}
